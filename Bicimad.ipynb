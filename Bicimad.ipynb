{
  "nbformat": 4,
  "nbformat_minor": 0,
  "metadata": {
    "colab": {
      "name": "Bicimad.ipynb",
      "provenance": [],
      "collapsed_sections": []
    },
    "kernelspec": {
      "name": "python3",
      "display_name": "Python 3"
    },
    "language_info": {
      "name": "python"
    }
  },
  "cells": [
    {
      "cell_type": "markdown",
      "source": [
        "# **PRÁCTICA 4 - BICIMAD**\n",
        "\n",
        "---\n",
        "\n"
      ],
      "metadata": {
        "id": "62ZTsz3yVdjU"
      }
    },
    {
      "cell_type": "markdown",
      "source": [
        "Claudia Casado Poyatos\n",
        "\n",
        "Natalia García Domínguez\n",
        "\n",
        "Olga Rodríguez Acevedo"
      ],
      "metadata": {
        "id": "7QLRHlMpVj7s"
      }
    },
    {
      "cell_type": "markdown",
      "source": [
        "# **Motivación**\n",
        "BiciMAD surge como un nuevo medio de transporte en la ciudad de Madrid, un servicio público de bicicletas que favorece el movimiento de los ciudadanos de manera sostenible para el medio ambiente. Actualmente la ciudad posee 2.964 bicicletas, 6.315 anclajes y 264 estaciones repartidas por toda la ciudad, las cuáles se pueden consultar mediante la app de BiciMAD. \n",
        "Como base de datos usaremos el mes de **mayo de 2021**, ya que en este mes finalizó la prórroga del estado de alarma debido al COVID-19 y se eliminaron muchas de las restricciones causadas por esta pandemia.\n",
        "\n",
        "**Objetivos**: \n",
        "\n",
        "\n",
        "1.   Análisis de la duración media de los trayectos y de las estaciones más y menos frecuentadas.\n",
        "2.   Relación entre duración de los trayectos y edad de los usuarios.\n",
        "3.   Relación entre duración de los trayectos y franja horaria.\n",
        "4.   Relación entre duración de los trayectos y la franja semanal.\n",
        "\n",
        "\n",
        "\n",
        "\n",
        "\n",
        "\n",
        "\n",
        "\n",
        "\n"
      ],
      "metadata": {
        "id": "SUYYPGcIJ0nI"
      }
    },
    {
      "cell_type": "markdown",
      "source": [
        "# **Metodología y Resultados**"
      ],
      "metadata": {
        "id": "qJpHQQU2M39s"
      }
    },
    {
      "cell_type": "markdown",
      "source": [
        "Lo primero es la lectura y preparación de los datos. "
      ],
      "metadata": {
        "id": "lCLpHkciObl1"
      }
    },
    {
      "cell_type": "code",
      "source": [
        "from google.colab import drive\n",
        "drive.mount('/content/drive')"
      ],
      "metadata": {
        "colab": {
          "base_uri": "https://localhost:8080/"
        },
        "id": "y_kemqANWrTH",
        "outputId": "91235b7a-741b-4558-87c4-29a85463f35a"
      },
      "execution_count": null,
      "outputs": [
        {
          "output_type": "stream",
          "name": "stdout",
          "text": [
            "Mounted at /content/drive\n"
          ]
        }
      ]
    },
    {
      "cell_type": "code",
      "source": [
        "filename = '/content/drive/MyDrive/202105_movements.json'\n",
        "#filename = '/content/drive/MyDrive/Colab Notebooks/202105_movements.json'"
      ],
      "metadata": {
        "id": "YRpmOqx1XiA7"
      },
      "execution_count": null,
      "outputs": []
    },
    {
      "cell_type": "code",
      "source": [
        "pip install pyspark"
      ],
      "metadata": {
        "id": "8LTi3u8dYhhg",
        "colab": {
          "base_uri": "https://localhost:8080/"
        },
        "outputId": "5831d64f-487e-4ecd-fde3-3270934073f2"
      },
      "execution_count": null,
      "outputs": [
        {
          "output_type": "stream",
          "name": "stdout",
          "text": [
            "Collecting pyspark\n",
            "  Downloading pyspark-3.2.1.tar.gz (281.4 MB)\n",
            "\u001b[K     |████████████████████████████████| 281.4 MB 32 kB/s \n",
            "\u001b[?25hCollecting py4j==0.10.9.3\n",
            "  Downloading py4j-0.10.9.3-py2.py3-none-any.whl (198 kB)\n",
            "\u001b[K     |████████████████████████████████| 198 kB 43.5 MB/s \n",
            "\u001b[?25hBuilding wheels for collected packages: pyspark\n",
            "  Building wheel for pyspark (setup.py) ... \u001b[?25l\u001b[?25hdone\n",
            "  Created wheel for pyspark: filename=pyspark-3.2.1-py2.py3-none-any.whl size=281853642 sha256=5e308fd615e215147e2259ee73b88a2b5eed75e6d668e676e9bbef795690a4e5\n",
            "  Stored in directory: /root/.cache/pip/wheels/9f/f5/07/7cd8017084dce4e93e84e92efd1e1d5334db05f2e83bcef74f\n",
            "Successfully built pyspark\n",
            "Installing collected packages: py4j, pyspark\n",
            "Successfully installed py4j-0.10.9.3 pyspark-3.2.1\n"
          ]
        }
      ]
    },
    {
      "cell_type": "code",
      "source": [
        "from pyspark.sql.types import StructType, StringType, IntegerType, TimestampType\n",
        "from pyspark.sql import SparkSession\n",
        "import json\n",
        "spark = SparkSession.builder.getOrCreate()\n",
        "sc = spark.sparkContext"
      ],
      "metadata": {
        "id": "cCXqyKTnYmFD"
      },
      "execution_count": null,
      "outputs": []
    },
    {
      "cell_type": "markdown",
      "source": [
        "Estos son los datos de los que disponemos desde la página de BiciMad:"
      ],
      "metadata": {
        "id": "EDEYjumOcWtr"
      }
    },
    {
      "cell_type": "code",
      "source": [
        "df = spark.read.json(filename)\n",
        "df.show()"
      ],
      "metadata": {
        "id": "p4EFV4aoIuVt",
        "colab": {
          "base_uri": "https://localhost:8080/"
        },
        "outputId": "af259108-c62f-46e5-a2e0-b222f0c2e06a"
      },
      "execution_count": null,
      "outputs": [
        {
          "output_type": "stream",
          "name": "stdout",
          "text": [
            "+--------------------+--------+-----------+--------------+-------------+----------------+-----------+--------------------+--------------------+---------+--------+\n",
            "|                 _id|ageRange|idplug_base|idplug_station|idunplug_base|idunplug_station|travel_time|     unplug_hourTime|       user_day_code|user_type|zip_code|\n",
            "+--------------------+--------+-----------+--------------+-------------+----------------+-----------+--------------------+--------------------+---------+--------+\n",
            "|{6093156e1b91311e...|       0|         15|            91|            6|              15|        488|2021-05-01T00:00:00Z|064ab31ac9ea01016...|        1|        |\n",
            "|{6093156e1b91311e...|       0|         23|            86|           19|             104|        754|2021-05-01T00:00:00Z|9ad5e191c50694a86...|        1|        |\n",
            "|{6093156e1b91311e...|       0|         18|           215|           22|             170|        900|2021-05-01T00:00:00Z|7019de3db24cf1294...|        1|        |\n",
            "|{6093156e1b91311e...|       4|         24|           106|           16|             134|        823|2021-05-01T00:00:00Z|d2d6cfb2453cae109...|        1|   28028|\n",
            "|{6093156e1b91311e...|       3|         20|           177|           16|             175|        283|2021-05-01T00:00:00Z|a2b096809571c4ec1...|        1|   28005|\n",
            "|{6093156e1b91311e...|       0|         18|            48|           22|             104|       1175|2021-05-01T00:00:00Z|d736a6f0d55a3945e...|        1|        |\n",
            "|{6093156e1b91311e...|       0|          6|            92|           11|             159|        489|2021-05-01T00:00:00Z|3bf8c449b1af495f9...|        1|        |\n",
            "|{6093156e1b91311e...|       5|          3|            94|            4|             131|        811|2021-05-01T00:00:00Z|9afe0fbc7109ceef9...|        1|   28006|\n",
            "|{6093156e1b91311e...|       0|         16|           226|           11|             113|        693|2021-05-01T00:00:00Z|04da4c71e8cdfbd69...|        1|        |\n",
            "|{6093156e1b91311e...|       4|         18|           226|           13|             113|        721|2021-05-01T00:00:00Z|fca8eeae9292e5c3d...|        1|   28030|\n",
            "|{6093156e1b91311e...|       0|          3|           247|           10|             254|        551|2021-05-01T00:00:00Z|6be0096b4d20d65a2...|        1|        |\n",
            "|{6093156e1b91311e...|       0|          3|           226|           16|             113|        734|2021-05-01T00:00:00Z|bcf70ec7fa28308c7...|        1|        |\n",
            "|{6093156e1b91311e...|       4|         17|            58|           11|              62|        418|2021-05-01T00:00:00Z|6b71c772a1ebf364d...|        1|        |\n",
            "|{6093156f1b91311e...|       5|          3|           179|           17|              50|        304|2021-05-01T00:00:00Z|a4ab0d18b23010466...|        1|   28005|\n",
            "|{6093156f1b91311e...|       3|          7|           184|           19|              51|        244|2021-05-01T00:00:00Z|be260ae28e10f4782...|        1|   28008|\n",
            "|{6093156f1b91311e...|       0|         24|           184|            2|              90|        701|2021-05-01T00:00:00Z|c2dc6507b06d5d912...|        1|        |\n",
            "|{6093156f1b91311e...|       5|          3|           116|            4|             187|       1434|2021-05-01T00:00:00Z|16b2ff854dbc84552...|        1|   28400|\n",
            "|{6093156f1b91311e...|       0|          2|            10|           16|              13|       2652|2021-05-01T00:00:00Z|79ffbe2394f32aac8...|        1|        |\n",
            "|{6093156f1b91311e...|       5|          9|           122|            6|              39|        455|2021-05-01T00:00:00Z|eb78a135893213b78...|        1|   28008|\n",
            "|{6093156f1b91311e...|       5|         20|           105|           17|             106|        492|2021-05-01T01:00:00Z|e7395b512bdd86943...|        3|        |\n",
            "+--------------------+--------+-----------+--------------+-------------+----------------+-----------+--------------------+--------------------+---------+--------+\n",
            "only showing top 20 rows\n",
            "\n"
          ]
        }
      ]
    },
    {
      "cell_type": "markdown",
      "source": [
        "**Leyenda**:\n",
        "\n",
        "\n",
        "* id_: identificador del movimiento\n",
        "* ageRange: Número que indica el rango de edad del usuario. Sus posibles valores son:\n",
        "  - 0: Edad sin determinar \n",
        "  - 1: Entre 0 y 16 años\n",
        "  - 2: Entre 17 y 18 años\n",
        "  - 3: Entre 19 y 26 años\n",
        "  - 4: Entre 27 y 40 años\n",
        "  - 5: Entre 41 y 65 años\n",
        "  - 6: El usuario tiene 66 años o más\n",
        "*idplug_base: Identificador del anclaje donde se engancha la bicicleta.\n",
        "*idplug_station: Identificador de la estación en la que se engancha la bicicleta.\n",
        "*idunplug_base: Identificador del anclaje del que se desengancha la bicicleta.\n",
        "*idunplug_station: Identificador de la estación de la que se desengancha la bicicleta.\n",
        "*travel_time: Tiempo total en segundos, entre el desenganche y el enganche de la bicicleta.\n",
        "*unplug_hourTime: Franja horaria en la que se realiza el desenganche de la bicicleta.\n",
        "*user_day_code: Identificador del usuario.\n",
        "*user_type: Identificador del tipo de usuario\n",
        "  - 0: Tipo sin determinar\n",
        "  - 1: Usuario anual \n",
        "  - 2: Usuario ocasional ( turista)\n",
        "  - 3: Trabajador de la empresa\n",
        "  - 6: Usuario sin abono\n",
        "  - 7: Usuario de BiciMAD GO.\n",
        "*zip_code: Código postal  \n",
        "\n"
      ],
      "metadata": {
        "id": "28xksHKzO47Z"
      }
    },
    {
      "cell_type": "code",
      "source": [
        "from datetime import datetime\n",
        "s = \"2021-05-01T00:00:00Z\"\n",
        "d = datetime.strptime(s, \"%Y-%m-%dT%H:%M:%SZ\")\n",
        "d"
      ],
      "metadata": {
        "colab": {
          "base_uri": "https://localhost:8080/"
        },
        "id": "k7N7q60BJr7Z",
        "outputId": "d0667890-9b72-4276-d13d-e460b23baa73"
      },
      "execution_count": null,
      "outputs": [
        {
          "output_type": "execute_result",
          "data": {
            "text/plain": [
              "datetime.datetime(2021, 5, 1, 0, 0)"
            ]
          },
          "metadata": {},
          "execution_count": 8
        }
      ]
    },
    {
      "cell_type": "markdown",
      "source": [
        "Definimos el tipo de cada variable que vamos a necesitar y mejoramos la presentación de la columna de día y hora:"
      ],
      "metadata": {
        "id": "S76V4KzMeth0"
      }
    },
    {
      "cell_type": "code",
      "source": [
        "schema = StructType()\\\n",
        "    .add('_id', StructType().add('$oid', StringType(), False), False)\\\n",
        "    .add(\"travel_time\", IntegerType(), False)\\\n",
        "    .add(\"idunplug_station\", IntegerType(), False)\\\n",
        "    .add(\"idplug_station\", IntegerType(), False)\\\n",
        "    .add(\"ageRange\", IntegerType(), False)\\\n",
        "    .add(\"unplug_hourTime\", TimestampType(), False)"
      ],
      "metadata": {
        "id": "wbfv8odee-xZ"
      },
      "execution_count": null,
      "outputs": []
    },
    {
      "cell_type": "code",
      "source": [
        "df = spark.read.json(filename, schema=schema, timestampFormat = \"%Y-%m-%dT%H:%M:%SZ\")\n",
        "df.show()"
      ],
      "metadata": {
        "id": "nUz-AG-pgqgo",
        "colab": {
          "base_uri": "https://localhost:8080/"
        },
        "outputId": "db049436-d1f6-4e5e-a29b-7b4a4091cdd8"
      },
      "execution_count": null,
      "outputs": [
        {
          "output_type": "stream",
          "name": "stdout",
          "text": [
            "+--------------------+-----------+----------------+--------------+--------+-------------------+\n",
            "|                 _id|travel_time|idunplug_station|idplug_station|ageRange|    unplug_hourTime|\n",
            "+--------------------+-----------+----------------+--------------+--------+-------------------+\n",
            "|{6093156e1b91311e...|        488|              15|            91|       0|2021-05-01 00:00:00|\n",
            "|{6093156e1b91311e...|        754|             104|            86|       0|2021-05-01 00:00:00|\n",
            "|{6093156e1b91311e...|        900|             170|           215|       0|2021-05-01 00:00:00|\n",
            "|{6093156e1b91311e...|        823|             134|           106|       4|2021-05-01 00:00:00|\n",
            "|{6093156e1b91311e...|        283|             175|           177|       3|2021-05-01 00:00:00|\n",
            "|{6093156e1b91311e...|       1175|             104|            48|       0|2021-05-01 00:00:00|\n",
            "|{6093156e1b91311e...|        489|             159|            92|       0|2021-05-01 00:00:00|\n",
            "|{6093156e1b91311e...|        811|             131|            94|       5|2021-05-01 00:00:00|\n",
            "|{6093156e1b91311e...|        693|             113|           226|       0|2021-05-01 00:00:00|\n",
            "|{6093156e1b91311e...|        721|             113|           226|       4|2021-05-01 00:00:00|\n",
            "|{6093156e1b91311e...|        551|             254|           247|       0|2021-05-01 00:00:00|\n",
            "|{6093156e1b91311e...|        734|             113|           226|       0|2021-05-01 00:00:00|\n",
            "|{6093156e1b91311e...|        418|              62|            58|       4|2021-05-01 00:00:00|\n",
            "|{6093156f1b91311e...|        304|              50|           179|       5|2021-05-01 00:00:00|\n",
            "|{6093156f1b91311e...|        244|              51|           184|       3|2021-05-01 00:00:00|\n",
            "|{6093156f1b91311e...|        701|              90|           184|       0|2021-05-01 00:00:00|\n",
            "|{6093156f1b91311e...|       1434|             187|           116|       5|2021-05-01 00:00:00|\n",
            "|{6093156f1b91311e...|       2652|              13|            10|       0|2021-05-01 00:00:00|\n",
            "|{6093156f1b91311e...|        455|              39|           122|       5|2021-05-01 00:00:00|\n",
            "|{6093156f1b91311e...|        492|             106|           105|       5|2021-05-01 01:00:00|\n",
            "+--------------------+-----------+----------------+--------------+--------+-------------------+\n",
            "only showing top 20 rows\n",
            "\n"
          ]
        }
      ]
    },
    {
      "cell_type": "markdown",
      "source": [
        "# **1**. Análisis de la duración media de los trayectos y de las estaciones más y menos frecuentadas \n",
        "\n",
        "Queremos calcular cuál es la **duración media de los trayectos realizados**. Las variables que necesitamos son: duración de los viajes, rango de edad de los viajeros y franjas horarias."
      ],
      "metadata": {
        "id": "8jvZw4o4g2s2"
      }
    },
    {
      "cell_type": "code",
      "source": [
        "schema1 = StructType()\\\n",
        "    .add(\"travel_time\", IntegerType(), False)\\\n",
        "    .add(\"ageRange\", IntegerType(), False)\\\n",
        "    .add(\"unplug_hourTime\", TimestampType(), False)\\\n",
        "\n",
        "df1 = spark.read.json(filename, schema=schema1)\n",
        "df1.show()"
      ],
      "metadata": {
        "id": "KIr8aaOdmtyR",
        "colab": {
          "base_uri": "https://localhost:8080/"
        },
        "outputId": "16a89b8c-5d1f-45da-a65d-a91d1bf28bea"
      },
      "execution_count": null,
      "outputs": [
        {
          "output_type": "stream",
          "name": "stdout",
          "text": [
            "+-----------+--------+-------------------+\n",
            "|travel_time|ageRange|    unplug_hourTime|\n",
            "+-----------+--------+-------------------+\n",
            "|        488|       0|2021-05-01 00:00:00|\n",
            "|        754|       0|2021-05-01 00:00:00|\n",
            "|        900|       0|2021-05-01 00:00:00|\n",
            "|        823|       4|2021-05-01 00:00:00|\n",
            "|        283|       3|2021-05-01 00:00:00|\n",
            "|       1175|       0|2021-05-01 00:00:00|\n",
            "|        489|       0|2021-05-01 00:00:00|\n",
            "|        811|       5|2021-05-01 00:00:00|\n",
            "|        693|       0|2021-05-01 00:00:00|\n",
            "|        721|       4|2021-05-01 00:00:00|\n",
            "|        551|       0|2021-05-01 00:00:00|\n",
            "|        734|       0|2021-05-01 00:00:00|\n",
            "|        418|       4|2021-05-01 00:00:00|\n",
            "|        304|       5|2021-05-01 00:00:00|\n",
            "|        244|       3|2021-05-01 00:00:00|\n",
            "|        701|       0|2021-05-01 00:00:00|\n",
            "|       1434|       5|2021-05-01 00:00:00|\n",
            "|       2652|       0|2021-05-01 00:00:00|\n",
            "|        455|       5|2021-05-01 00:00:00|\n",
            "|        492|       5|2021-05-01 01:00:00|\n",
            "+-----------+--------+-------------------+\n",
            "only showing top 20 rows\n",
            "\n"
          ]
        }
      ]
    },
    {
      "cell_type": "markdown",
      "source": [
        "Función para calcular la duración media de los trayectos:"
      ],
      "metadata": {
        "id": "5DpVqlOU4obI"
      }
    },
    {
      "cell_type": "code",
      "source": [
        "def obtener_duracion_media(df):\n",
        "    numero= df.count()\n",
        "    total= df.rdd.map(lambda x: x['travel_time']).sum()\n",
        "    media= (total/numero)/60\n",
        "    return media\n",
        "\n",
        "print('La duración media de los trayectos es: ', obtener_duracion_media(df1))"
      ],
      "metadata": {
        "colab": {
          "base_uri": "https://localhost:8080/"
        },
        "id": "DMHc7CDP49M5",
        "outputId": "9233f262-6455-4b70-d774-bf22ac31e9ba"
      },
      "execution_count": null,
      "outputs": [
        {
          "output_type": "stream",
          "name": "stdout",
          "text": [
            "La duración media de los trayectos es:  22.62025194991418\n"
          ]
        }
      ]
    },
    {
      "cell_type": "markdown",
      "source": [
        "Veamos ahora cuáles son las **estaciones**, tanto de salida como de llegada, más frecuentadas por los usuarios. El *data frame* a tener en cuenta es el siguiente:"
      ],
      "metadata": {
        "id": "BI6DocvCLIHj"
      }
    },
    {
      "cell_type": "code",
      "source": [
        "schema2 = StructType()\\\n",
        "    .add(\"travel_time\", IntegerType(), False)\\\n",
        "    .add(\"idunplug_station\", IntegerType(), False)\\\n",
        "    .add(\"idplug_station\", IntegerType(), False)\n",
        "\n",
        "df2 = spark.read.json(filename, schema = schema2)\n",
        "df2.show()"
      ],
      "metadata": {
        "id": "JDUgkwuMLUDs",
        "colab": {
          "base_uri": "https://localhost:8080/"
        },
        "outputId": "743f3a38-fb4a-404d-808c-2808ac2ce821"
      },
      "execution_count": null,
      "outputs": [
        {
          "output_type": "stream",
          "name": "stdout",
          "text": [
            "+-----------+----------------+--------------+\n",
            "|travel_time|idunplug_station|idplug_station|\n",
            "+-----------+----------------+--------------+\n",
            "|        488|              15|            91|\n",
            "|        754|             104|            86|\n",
            "|        900|             170|           215|\n",
            "|        823|             134|           106|\n",
            "|        283|             175|           177|\n",
            "|       1175|             104|            48|\n",
            "|        489|             159|            92|\n",
            "|        811|             131|            94|\n",
            "|        693|             113|           226|\n",
            "|        721|             113|           226|\n",
            "|        551|             254|           247|\n",
            "|        734|             113|           226|\n",
            "|        418|              62|            58|\n",
            "|        304|              50|           179|\n",
            "|        244|              51|           184|\n",
            "|        701|              90|           184|\n",
            "|       1434|             187|           116|\n",
            "|       2652|              13|            10|\n",
            "|        455|              39|           122|\n",
            "|        492|             106|           105|\n",
            "+-----------+----------------+--------------+\n",
            "only showing top 20 rows\n",
            "\n"
          ]
        }
      ]
    },
    {
      "cell_type": "code",
      "source": [
        "df2_estacion_salida = df2.groupBy('idunplug_station').count().orderBy('count')\n",
        "df2_estacion_llegada = df2.groupBy('idplug_station').count().orderBy('idplug_station')"
      ],
      "metadata": {
        "id": "FmBSck4mLv-E"
      },
      "execution_count": null,
      "outputs": []
    },
    {
      "cell_type": "markdown",
      "source": [
        "Calculamos la frecuencia máxima y mínima:"
      ],
      "metadata": {
        "id": "gS5MFR7fL87f"
      }
    },
    {
      "cell_type": "code",
      "source": [
        "def obtener_max(df, variable):\n",
        "    max_ = df.rdd.map(lambda x: x['count']).max()\n",
        "    df_max = df.filter(df['count'] == max_)\n",
        "    df_max.show()\n",
        "    maxi_frecuencia = df_max.rdd.map(lambda x: x[variable]).collect()\n",
        "    return (max_, maxi_frecuencia)\n",
        "\n",
        "def obtener_min(df, variable):\n",
        "    min_ = df.rdd.map(lambda x: x['count']).min()\n",
        "    df_min = df.filter(df['count'] == min_)\n",
        "    df_min.show()\n",
        "    mini_frecuencia = df_min.rdd.map(lambda x: x[variable]).collect()\n",
        "    return (min_, mini_frecuencia)"
      ],
      "metadata": {
        "id": "Iz_V2zeDL5ar"
      },
      "execution_count": null,
      "outputs": []
    },
    {
      "cell_type": "code",
      "source": [
        "# Hallamos las estaciones de salida más y menos frecuentadas:\n",
        "(numero_max_tray_salida, estacion_mas_frec_salida) = obtener_max(df2_estacion_salida, 'idunplug_station')\n",
        "print('La estación de salida más frecuentada es', estacion_mas_frec_salida[0], ', y', numero_max_tray_salida, ', el número de trayectos que ha acogido.')\n",
        "\n",
        "(numero_min_tray_salida, estacion_menos_frec_salida) = obtener_min(df2_estacion_salida, 'idunplug_station')\n",
        "print('La estación de salida menos frecuentada es', estacion_menos_frec_salida[0], ', y', numero_min_tray_salida, ', el número de trayectos que ha acogido.')\n",
        "\n",
        "# Hallamos las estaciones de llegada más y menos frecuentadas:\n",
        "(numero_max_tray_llegada, estacion_mas_frec_llegada) = obtener_max(df2_estacion_llegada, 'idplug_station')\n",
        "print('La estación de llegada más frecuentada es', estacion_mas_frec_llegada[0], ', y', numero_max_tray_llegada, ', el número de trayectos que ha acogido.')\n",
        "\n",
        "(numero_min_tray_llegada, estacion_menos_frec_llegada) = obtener_min(df2_estacion_llegada, 'idplug_station')\n",
        "print('La estación de llegada menos frecuentada es', estacion_menos_frec_llegada[0], ', y', numero_min_tray_llegada, ', el número de trayectos que ha acogido.')\n"
      ],
      "metadata": {
        "id": "jWhJ2-X0MBD-",
        "colab": {
          "base_uri": "https://localhost:8080/"
        },
        "outputId": "ea79c9a7-d2e1-4b00-b23e-4b95b8fb8a89"
      },
      "execution_count": null,
      "outputs": [
        {
          "output_type": "stream",
          "name": "stdout",
          "text": [
            "+----------------+-----+\n",
            "|idunplug_station|count|\n",
            "+----------------+-----+\n",
            "|              43| 4809|\n",
            "+----------------+-----+\n",
            "\n",
            "La estación de salida más frecuentada es 43 , y 4809 , el número de trayectos que ha acogido.\n",
            "+----------------+-----+\n",
            "|idunplug_station|count|\n",
            "+----------------+-----+\n",
            "|             266|  134|\n",
            "+----------------+-----+\n",
            "\n",
            "La estación de salida menos frecuentada es 266 , y 134 , el número de trayectos que ha acogido.\n",
            "+--------------+-----+\n",
            "|idplug_station|count|\n",
            "+--------------+-----+\n",
            "|            43| 4867|\n",
            "+--------------+-----+\n",
            "\n",
            "La estación de llegada más frecuentada es 43 , y 4867 , el número de trayectos que ha acogido.\n",
            "+--------------+-----+\n",
            "|idplug_station|count|\n",
            "+--------------+-----+\n",
            "|          2009|   99|\n",
            "+--------------+-----+\n",
            "\n",
            "La estación de llegada menos frecuentada es 2009 , y 99 , el número de trayectos que ha acogido.\n"
          ]
        }
      ]
    },
    {
      "cell_type": "markdown",
      "source": [
        "# **2**. Relación entre la duración de los trayectos y la edad de los usuarios\n",
        "\n",
        "En este segundo apartado vamos a estudiar cuál es la duración de los trayectos según el rango de edad de los usuarios de BiciMad. Vamos a analizar cuántos trayectos hay registrados para cada rango de edad:"
      ],
      "metadata": {
        "id": "zCNEErE25xng"
      }
    },
    {
      "cell_type": "code",
      "source": [
        "df1_age = df1.groupBy('ageRange').count().sort('ageRange')\n",
        "df1_age.show()"
      ],
      "metadata": {
        "colab": {
          "base_uri": "https://localhost:8080/"
        },
        "id": "50khXArOHnTq",
        "outputId": "d00516db-1e0f-423a-deeb-680579feb082"
      },
      "execution_count": null,
      "outputs": [
        {
          "output_type": "stream",
          "name": "stdout",
          "text": [
            "+--------+------+\n",
            "|ageRange| count|\n",
            "+--------+------+\n",
            "|       0|231175|\n",
            "|       1|  4553|\n",
            "|       2|  1360|\n",
            "|       3| 13714|\n",
            "|       4| 85676|\n",
            "|       5| 75652|\n",
            "|       6|  2119|\n",
            "+--------+------+\n",
            "\n"
          ]
        }
      ]
    },
    {
      "cell_type": "markdown",
      "source": [
        "Calculamos la media para cada rango de edad y construimos una lista *'resultados'* donde guardamos los datos, para ,más tarde, poder crear un histograma."
      ],
      "metadata": {
        "id": "3k6cvrCVVSwJ"
      }
    },
    {
      "cell_type": "code",
      "source": [
        "resultados = []\n",
        "for i in range(0,7):\n",
        "    df1_edad_i = df1.filter(df1['ageRange']==i)\n",
        "    duracion_media = obtener_duracion_media(df1_edad_i)\n",
        "    resultados.append(duracion_media)\n",
        "    print('La duración media de los viajes de BICIMAD en el rango de edad ', i,  'es: ', duracion_media, 'minutos')\n"
      ],
      "metadata": {
        "colab": {
          "base_uri": "https://localhost:8080/"
        },
        "id": "_HwJt22BEjEC",
        "outputId": "0c9f7ee1-99ef-4207-dfe0-6f115dcfd153"
      },
      "execution_count": null,
      "outputs": [
        {
          "output_type": "stream",
          "name": "stdout",
          "text": [
            "La duración media de los viajes de BICIMAD en el rango de edad  0 es:  18.055987599581847 minutos\n",
            "La duración media de los viajes de BICIMAD en el rango de edad  1 es:  18.45401932791566 minutos\n",
            "La duración media de los viajes de BICIMAD en el rango de edad  2 es:  14.093223039215685 minutos\n",
            "La duración media de los viajes de BICIMAD en el rango de edad  3 es:  15.397283797579117 minutos\n",
            "La duración media de los viajes de BICIMAD en el rango de edad  4 es:  21.158607622515834 minutos\n",
            "La duración media de los viajes de BICIMAD en el rango de edad  5 es:  40.02181105588748 minutos\n",
            "La duración media de los viajes de BICIMAD en el rango de edad  6 es:  19.56706779927639 minutos\n"
          ]
        }
      ]
    },
    {
      "cell_type": "markdown",
      "source": [
        "Como podemos observar, las personas entre 41 y 65 años son las que tienen la media más alta. Para obtener de manera más visual estos resultados, creamos un histograma:"
      ],
      "metadata": {
        "id": "yHF_N98zH3ze"
      }
    },
    {
      "cell_type": "code",
      "source": [
        "import matplotlib.pyplot as plt\n",
        "plt.bar(range(0,7), resultados)\n",
        "plt.title('Duración media por cada grupo de edad', fontsize=15)\n",
        "plt.xlabel('Age range')\n",
        "plt.ylabel('Hours')"
      ],
      "metadata": {
        "colab": {
          "base_uri": "https://localhost:8080/",
          "height": 315
        },
        "id": "GfgYTeIrH_2P",
        "outputId": "ae5cec83-a869-4614-efa4-4bc132a20f65"
      },
      "execution_count": null,
      "outputs": [
        {
          "output_type": "execute_result",
          "data": {
            "text/plain": [
              "Text(0, 0.5, 'Hours')"
            ]
          },
          "metadata": {},
          "execution_count": 19
        },
        {
          "output_type": "display_data",
          "data": {
            "text/plain": [
              "<Figure size 432x288 with 1 Axes>"
            ],
            "image/png": "[encoded data removed]"
          },
          "metadata": {
            "needs_background": "light"
          }
        }
      ]
    },
    {
      "cell_type": "markdown",
      "source": [
        "# **3**.Relación entre la duración de los trayectos y la franja horaria.\n",
        "Para este apartado vamos a estudiar la duración de los trayectos respecto a la franja horaria. Lo primero es conseguir los datos de las franjas horarias y el día de la semana."
      ],
      "metadata": {
        "id": "8OoIXS6SGM76"
      }
    },
    {
      "cell_type": "code",
      "source": [
        "def obtener_dia_hora(linea):\n",
        "    datos = json.loads(linea)\n",
        "    datos['unplug_hourTime'] = datetime.strptime(datos['unplug_hourTime'], \"%Y-%m-%dT%H:%M:%SZ\")\n",
        "    datos['day']= datos['unplug_hourTime'].isoweekday()\n",
        "    datos['hour'] = datos['unplug_hourTime'].hour\n",
        "    return datos"
      ],
      "metadata": {
        "id": "Ds4qX-g5GtPm"
      },
      "execution_count": null,
      "outputs": []
    },
    {
      "cell_type": "code",
      "source": [
        "rdd_dia_hora= sc.textFile(filename).map(obtener_dia_hora)\n",
        "df_dia_hora= spark.createDataFrame(rdd_dia_hora).drop('_id').drop('idplug_station').drop('idunplug_station').drop('idplug_base').drop('idunplug_base').drop('user_day_code').drop('user_type').drop('zip_code')\n",
        "# df_dia_hora.show()"
      ],
      "metadata": {
        "id": "4TnT0HpuG6qC"
      },
      "execution_count": null,
      "outputs": []
    },
    {
      "cell_type": "markdown",
      "source": [
        "Realizamos unos histogramas que muestran el numero de trayectos realizados según las franjas horarias:\n",
        "\n",
        "* Madrugada: 00:00 - 06:00\n",
        "* Mañana: 07:00 - 13:00\n",
        "* Tarde: 14:00 - 19:00\n",
        "* Noche: 20:00 - 24:00\n",
        "\n",
        "Definimos un data frame por cada una de las franjas y obtenemos los viajes que se realizan entre esas horas.\n",
        "\n"
      ],
      "metadata": {
        "id": "fJS7QnZMKTgs"
      }
    },
    {
      "cell_type": "code",
      "source": [
        "df_contar_hora = df_dia_hora.groupBy('hour').count()\n",
        "\n",
        "f_horaria = [0,7,14,20,24]\n",
        "franjas = ['madrugada','mañana','tarde','noche']"
      ],
      "metadata": {
        "id": "rEwU5jIeKH13"
      },
      "execution_count": null,
      "outputs": []
    },
    {
      "cell_type": "code",
      "source": [
        "def obtener_franja_horaria(df,hora_p,hora_s):\n",
        "    df_hora = df.filter(df['hour']>= hora_p).filter(df['hour']< hora_s).sort(df['hour'])\n",
        "    return df_hora"
      ],
      "metadata": {
        "id": "L2n8skTqHTP7"
      },
      "execution_count": null,
      "outputs": []
    },
    {
      "cell_type": "code",
      "source": [
        "for i in range(len(f_horaria)-1):\n",
        "    df_franjas = obtener_franja_horaria(df_contar_hora, f_horaria[i], f_horaria[i+1])\n",
        "    \n",
        "    #Histograma:\n",
        "    viajes = df_franjas.select(\"count\").rdd.flatMap(lambda x: x).collect()\n",
        "    plt.bar(range(f_horaria[i],f_horaria[i+1]), viajes)\n",
        "    plt.title('Viajes durante la '+ franjas[i], fontsize= 10)\n",
        "    plt.ylim(0,33000)\n",
        "    plt.xlabel('Hora')\n",
        "    plt.show()"
      ],
      "metadata": {
        "id": "ACIrVoZZXUzZ",
        "colab": {
          "base_uri": "https://localhost:8080/",
          "height": 1000
        },
        "outputId": "efa4da65-b9cb-44da-f619-b602154d5d43"
      },
      "execution_count": null,
      "outputs": [
        {
          "output_type": "display_data",
          "data": {
            "text/plain": [
              "<Figure size 432x288 with 1 Axes>"
            ],
            "image/png": "[encoded data removed]"
          },
          "metadata": {
            "needs_background": "light"
          }
        },
        {
          "output_type": "display_data",
          "data": {
            "text/plain": [
              "<Figure size 432x288 with 1 Axes>"
            ],
            "image/png": "[encoded data removed]"
          },
          "metadata": {
            "needs_background": "light"
          }
        },
        {
          "output_type": "display_data",
          "data": {
            "text/plain": [
              "<Figure size 432x288 with 1 Axes>"
            ],
            "image/png": "[encoded data removed]"
          },
          "metadata": {
            "needs_background": "light"
          }
        },
        {
          "output_type": "display_data",
          "data": {
            "text/plain": [
              "<Figure size 432x288 with 1 Axes>"
            ],
            "image/png": "[encoded data removed]"
          },
          "metadata": {
            "needs_background": "light"
          }
        }
      ]
    },
    {
      "cell_type": "markdown",
      "source": [
        "Los histogramas nos muestran como entre las 6 y las 7 de la madrugada se eleva drásticamente el uso de las bicicletas y se mantiene durante la mañana. Se vuelve a tener otro pico entre las 16 y 18 horas y va descendiendo a lo largo de la noche.\n",
        "Vamos a calcular las franjas horarias donde se producen los picos máximo y minimo del uso de las biciletas:"
      ],
      "metadata": {
        "id": "CTpANyNYKoUU"
      }
    },
    {
      "cell_type": "code",
      "source": [
        "def obtener_hora_max(df,variable):\n",
        "    max_ = df.rdd.map(lambda x: x['count']).max()\n",
        "    df_max = df.filter(df['count']== max_)\n",
        "    df_max.show()\n",
        "    maxi_frecuencia = df_max.rdd.map( lambda x: x[variable]).collect()\n",
        "    return (max_, maxi_frecuencia)\n",
        "\n",
        "def obtener_hora_min(df,variable):\n",
        "    min_ = df.rdd.map(lambda x: x['count']).min()\n",
        "    df_min = df.filter(df['count']==min_)\n",
        "    df_min.show()\n",
        "    mini_frecuencia = df_min.rdd.map(lambda x: x[variable]).collect()\n",
        "    return  (min_, mini_frecuencia)"
      ],
      "metadata": {
        "id": "ak3W9o9PK1qA"
      },
      "execution_count": null,
      "outputs": []
    },
    {
      "cell_type": "code",
      "source": [
        "(maximo,hora_max) = obtener_hora_max(df_contar_hora, 'hour')\n",
        "print('La mayor cantidad de trayectos se realizan a las:', hora_max[0], 'horas, y', maximo, 'es el total de viajes.')\n",
        "(minimo,hora_min) = obtener_hora_min(df_contar_hora, 'hour')\n",
        "print('La menor cantidad de trayectos se realizan a las:', hora_min[0], 'horas, y', minimo, 'es el total de viajes.')\n"
      ],
      "metadata": {
        "colab": {
          "base_uri": "https://localhost:8080/"
        },
        "id": "IHjh_OcUK4T_",
        "outputId": "02a7eb6d-8fc4-4b03-e8d6-c5317bf3a9b8"
      },
      "execution_count": null,
      "outputs": [
        {
          "output_type": "stream",
          "name": "stdout",
          "text": [
            "+----+-----+\n",
            "|hour|count|\n",
            "+----+-----+\n",
            "|  17|34447|\n",
            "+----+-----+\n",
            "\n",
            "La mayor cantidad de trayectos se realizan a las: 17 horas, y 34447 es el total de viajes.\n",
            "+----+-----+\n",
            "|hour|count|\n",
            "+----+-----+\n",
            "|   2| 1079|\n",
            "+----+-----+\n",
            "\n",
            "La menor cantidad de trayectos se realizan a las: 2 horas, y 1079 es el total de viajes.\n"
          ]
        }
      ]
    },
    {
      "cell_type": "markdown",
      "source": [
        "Estos resultados concuerdan con nuestras conclusiones anteriores: se produce un pico máximo a las 17h y un mínimo a las 2 de la madrugada. Hay una diferencia de 33368 viajes entre el máximo y el mínimo.\n",
        "\n",
        "Como segunda parte de este análisis, vamos a calcular la duración media de los trayectos en las distintas franjas hotarias:"
      ],
      "metadata": {
        "id": "r_xQcVvTVrDH"
      }
    },
    {
      "cell_type": "code",
      "source": [
        "duracion_media_franja = []\n",
        "for i in range(len(f_horaria)-1):\n",
        "    df_hora_i = obtener_franja_horaria(df_dia_hora, f_horaria[i], f_horaria[i+1])\n",
        "    media_i = obtener_duracion_media(df_hora_i)\n",
        "    duracion_media_franja.append(media_i)\n",
        "    print('La duración media de los viajes realizados entre las', f_horaria[i], 'y las', f_horaria[i+1], ' es de:', media_i, 'minutos.')\n",
        "    \n",
        "#Histograma:\n",
        "plt.bar(franjas, duracion_media_franja)\n",
        "plt.title('Duración media por cada franja horaria')\n",
        "plt.ylabel('Horas')\n",
        "plt.show()\n",
        "\n"
      ],
      "metadata": {
        "id": "5xSfqVutK_YD",
        "colab": {
          "base_uri": "https://localhost:8080/",
          "height": 350
        },
        "outputId": "f2fc931d-a371-4c8c-88e0-937aa5e07185"
      },
      "execution_count": null,
      "outputs": [
        {
          "output_type": "stream",
          "name": "stdout",
          "text": [
            "La duración media de los viajes realizados entre las 0 y las 7  es de: 18.45613049218924 minutos.\n",
            "La duración media de los viajes realizados entre las 7 y las 14  es de: 28.130167471220894 minutos.\n",
            "La duración media de los viajes realizados entre las 14 y las 20  es de: 20.030303872304998 minutos.\n",
            "La duración media de los viajes realizados entre las 20 y las 24  es de: 17.285681826524243 minutos.\n"
          ]
        },
        {
          "output_type": "display_data",
          "data": {
            "text/plain": [
              "<Figure size 432x288 with 1 Axes>"
            ],
            "image/png": "[encoded data removed]"
          },
          "metadata": {
            "needs_background": "light"
          }
        }
      ]
    },
    {
      "cell_type": "markdown",
      "source": [
        "Para este estudio obtenemos que los viajes de más tiempo ocurren durante la mañana. Veamos más detalladamente que ocurre durante las 7 y las 14 horas del día:"
      ],
      "metadata": {
        "id": "OcImwRU4WYZB"
      }
    },
    {
      "cell_type": "code",
      "source": [
        "# Estudio de la duración de los viajes en la mañana\n",
        "def obtener_horas_manana(df, hora):\n",
        "    df_hora = df.filter(df['hour'] == hora)\n",
        "    return df_hora\n",
        "\n",
        "for i in range(f_horaria[1], f_horaria[2]):\n",
        "    df_hora_i = obtener_horas_manana(df_dia_hora, i)\n",
        "    duracion_media_hora_i = obtener_duracion_media(df_hora_i)\n",
        "    print('La duración media de los viajes a las', i, 'horas es de: ', duracion_media_hora_i, 'minutos.')"
      ],
      "metadata": {
        "id": "8sjpF1RpWSlu",
        "colab": {
          "base_uri": "https://localhost:8080/"
        },
        "outputId": "dabbde84-ff9c-48d4-e165-38347cd08cde"
      },
      "execution_count": null,
      "outputs": [
        {
          "output_type": "stream",
          "name": "stdout",
          "text": [
            "La duración media de los viajes a las 7 horas es de:  28.28137188668198 minutos.\n",
            "La duración media de los viajes a las 8 horas es de:  41.84275969656185 minutos.\n",
            "La duración media de los viajes a las 9 horas es de:  34.595880035512145 minutos.\n",
            "La duración media de los viajes a las 10 horas es de:  39.58390361985493 minutos.\n",
            "La duración media de los viajes a las 11 horas es de:  30.349296513466125 minutos.\n",
            "La duración media de los viajes a las 12 horas es de:  16.66861936466925 minutos.\n",
            "La duración media de los viajes a las 13 horas es de:  17.971974693347324 minutos.\n"
          ]
        }
      ]
    },
    {
      "cell_type": "markdown",
      "source": [
        "La duración de los viajes es mayor entre las 8 y 9, y desciende más rápidamente a partir de las 12 del mediodía, posiblemente debido a un aumento de las temperaturas a partir de esa hora."
      ],
      "metadata": {
        "id": "91o-lUvV6Qev"
      }
    },
    {
      "cell_type": "markdown",
      "source": [
        "# **4**.Relación entre la duración de los trayectos y la franja semanal."
      ],
      "metadata": {
        "id": "2JoatD-8GZbT"
      }
    },
    {
      "cell_type": "markdown",
      "source": [
        "Repetimos el proceso, pero para unas nuevas franjas. Esta vez tomaremos dos franjas semanales: los días laborables y los fines de semana."
      ],
      "metadata": {
        "id": "IGjHDRrdXsLt"
      }
    },
    {
      "cell_type": "code",
      "source": [
        "def obtener_franja_semanal(df,dia):\n",
        "    if dia == 'laborable':\n",
        "        df_semana = df.filter(df['day']<6).sort(df['day'])\n",
        "    else:\n",
        "        df_semana = df.filter(df['day']>5).sort(df['day'])\n",
        "    return df_semana"
      ],
      "metadata": {
        "id": "JMBnZznvL4Bk"
      },
      "execution_count": null,
      "outputs": []
    },
    {
      "cell_type": "markdown",
      "source": [
        "Obtenemos un data frame para los dias laborables (lunes a viernes) y otro para los fines de semana (sábados y domingos), y los viajes que se realizan en cada una de las franjas."
      ],
      "metadata": {
        "id": "YYNcchKCX52h"
      }
    },
    {
      "cell_type": "code",
      "source": [
        "df_contar_dia = df_dia_hora.groupBy('day').count()\n",
        "\n",
        "#De lunes a viernes\n",
        "df_laborable = df_contar_dia.filter(df_contar_dia['day'] < 6).sort(df_contar_dia['day'])\n",
        "df_laborable.show()"
      ],
      "metadata": {
        "id": "laLSyFvSL8gs",
        "colab": {
          "base_uri": "https://localhost:8080/"
        },
        "outputId": "84602ba0-968c-49c4-e8b3-9ff6f2e3d892"
      },
      "execution_count": null,
      "outputs": [
        {
          "output_type": "stream",
          "name": "stdout",
          "text": [
            "+---+-----+\n",
            "|day|count|\n",
            "+---+-----+\n",
            "|  1|61802|\n",
            "|  2|59271|\n",
            "|  3|61646|\n",
            "|  4|63550|\n",
            "|  5|64709|\n",
            "+---+-----+\n",
            "\n"
          ]
        }
      ]
    },
    {
      "cell_type": "code",
      "source": [
        "#Sábados y domingos\n",
        "df_finde = df_contar_dia.filter(df_contar_dia['day'] > 5).sort(df_contar_dia['day'])\n",
        "df_finde.show()"
      ],
      "metadata": {
        "id": "3M5_Z32TMCPI",
        "colab": {
          "base_uri": "https://localhost:8080/"
        },
        "outputId": "1d06fa69-7d30-4dc0-ffbe-089bcc4bb683"
      },
      "execution_count": null,
      "outputs": [
        {
          "output_type": "stream",
          "name": "stdout",
          "text": [
            "+---+-----+\n",
            "|day|count|\n",
            "+---+-----+\n",
            "|  6|57938|\n",
            "|  7|45333|\n",
            "+---+-----+\n",
            "\n"
          ]
        }
      ]
    },
    {
      "cell_type": "markdown",
      "source": [
        "Como podemos observar en fin de semana se produce una bajada en el uso de las bicicletas siendo el viernes el dia don de se produce un máximo en los viajes y el domingo el día donde se produce el mínimo."
      ],
      "metadata": {
        "id": "_cE69y7F7SjQ"
      }
    },
    {
      "cell_type": "markdown",
      "source": [
        "Calculamos la duración media de los trayectos para estas franjas:"
      ],
      "metadata": {
        "id": "x7GDPEK2YD7G"
      }
    },
    {
      "cell_type": "code",
      "source": [
        "#Duracion de los viajes en días laborables\n",
        "df_LV = obtener_franja_semanal(df_dia_hora, 'laborable')\n",
        "duracion_media_laborable = obtener_duracion_media(df_LV)\n",
        "print('La duración media de los viajes de lunes a viernes es ', duracion_media_laborable, ' minutos.')\n",
        "\n",
        "#Duracion de los viajes en fin de semana\n",
        "df_SD = obtener_franja_semanal(df_dia_hora, 'finde')\n",
        "duracion_media_finde = obtener_duracion_media(df_SD)\n",
        "print('La duración media de los viajes los fines de semana es ',  duracion_media_finde, ' minutos.')\n"
      ],
      "metadata": {
        "id": "NH3Xxrp5MFAv",
        "colab": {
          "base_uri": "https://localhost:8080/"
        },
        "outputId": "3107ed72-8408-4027-a232-a692a5f8f650"
      },
      "execution_count": null,
      "outputs": [
        {
          "output_type": "stream",
          "name": "stdout",
          "text": [
            "La duración media de los viajes de lunes a viernes es  20.64112504207157  minutos.\n",
            "La duración media de los viajes los fines de semana es  28.57995920119556  minutos.\n"
          ]
        }
      ]
    },
    {
      "cell_type": "markdown",
      "source": [
        "Por tanto, a pesar de que en fin de semana se producen menos viajes, la duración de los mismos es más alta en comparación con los días laborables."
      ],
      "metadata": {
        "id": "9leLnFI5k16f"
      }
    }
  ]
}